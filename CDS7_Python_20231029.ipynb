{
  "nbformat": 4,
  "nbformat_minor": 0,
  "metadata": {
    "colab": {
      "private_outputs": true,
      "provenance": [],
      "include_colab_link": true
    },
    "kernelspec": {
      "name": "python3",
      "display_name": "Python 3"
    },
    "language_info": {
      "name": "python"
    }
  },
  "cells": [
    {
      "cell_type": "markdown",
      "metadata": {
        "id": "view-in-github",
        "colab_type": "text"
      },
      "source": [
        "<a href=\"https://colab.research.google.com/github/karthik-palaniappan/ProjectEuler/blob/master/CDS7_Python_20231029.ipynb\" target=\"_parent\"><img src=\"https://colab.research.google.com/assets/colab-badge.svg\" alt=\"Open In Colab\"/></a>"
      ]
    },
    {
      "cell_type": "code",
      "execution_count": null,
      "metadata": {
        "id": "rE0CIQ72efZw"
      },
      "outputs": [],
      "source": [
        "!python --version"
      ]
    },
    {
      "cell_type": "markdown",
      "source": [
        "#  Problem 1\n",
        "## Project Euler 1\n",
        "If we list all the natural numbers below 10 that are multiples of 3 or 5, we get 3, 5, 6, and 9. The sum of these multiples is 23.\n",
        "\n",
        "Find the sum of all the multiples of 3 or 5 below 1000."
      ],
      "metadata": {
        "id": "9FF_cKKFhQYk"
      }
    },
    {
      "cell_type": "code",
      "source": [
        "def select(n: int) -> bool:\n",
        "    return n % 3 == 0 or n % 5 == 0"
      ],
      "metadata": {
        "id": "kOXQQHqKjxJx"
      },
      "execution_count": null,
      "outputs": []
    },
    {
      "cell_type": "code",
      "source": [
        "def euler001_A(limit: int) -> int:\n",
        "    n, total = 1, 0\n",
        "    while n < limit:\n",
        "        if select(n):\n",
        "            total += n\n",
        "        n += 1\n",
        "    return total"
      ],
      "metadata": {
        "id": "l7sJs3v1jH6n"
      },
      "execution_count": null,
      "outputs": []
    },
    {
      "cell_type": "code",
      "source": [
        "print(euler001_A(10))\n",
        "print(euler001_A(1000))"
      ],
      "metadata": {
        "id": "L6QAHju7kb_v"
      },
      "execution_count": null,
      "outputs": []
    },
    {
      "cell_type": "code",
      "source": [
        "euler001_A(10)"
      ],
      "metadata": {
        "id": "zDaN4vZDkiyW"
      },
      "execution_count": null,
      "outputs": []
    },
    {
      "cell_type": "code",
      "source": [
        "def euler001_B(limit: int) -> int:\n",
        "    total = 0\n",
        "    for n in range(1, limit):\n",
        "        if select(n):\n",
        "            total += n\n",
        "    return total"
      ],
      "metadata": {
        "id": "cbxa0qjJmrmt"
      },
      "execution_count": null,
      "outputs": []
    },
    {
      "cell_type": "code",
      "source": [
        "print(euler001_B(10), euler001_B(1000))"
      ],
      "metadata": {
        "id": "ejG7rrjanLME"
      },
      "execution_count": null,
      "outputs": []
    },
    {
      "cell_type": "code",
      "source": [
        "print(euler001_B(10), euler001_B(1000), sep=\"\\n\")"
      ],
      "metadata": {
        "id": "pXAB32sxnQxZ"
      },
      "execution_count": null,
      "outputs": []
    },
    {
      "cell_type": "code",
      "source": [
        "def euler001_C(limit: int) -> int:\n",
        "    return sum(range(3, limit, 3)) +\\\n",
        "           sum(range(5, limit, 5)) -\\\n",
        "           sum(range(15, limit, 15))"
      ],
      "metadata": {
        "id": "7lkdPcXinYy_"
      },
      "execution_count": null,
      "outputs": []
    },
    {
      "cell_type": "code",
      "source": [
        "print(euler001_C(1000))"
      ],
      "metadata": {
        "id": "naYFR24Lrqse"
      },
      "execution_count": null,
      "outputs": []
    },
    {
      "cell_type": "code",
      "source": [
        "def euler001_D(limit: int) -> int:\n",
        "    return sum(set(range(3, limit, 3))|set(range(5, limit, 5)))"
      ],
      "metadata": {
        "id": "Svak50Wdrt0T"
      },
      "execution_count": null,
      "outputs": []
    },
    {
      "cell_type": "code",
      "source": [
        "print(euler001_D(1000))"
      ],
      "metadata": {
        "id": "2DCIoWnywQLV"
      },
      "execution_count": null,
      "outputs": []
    },
    {
      "cell_type": "code",
      "source": [
        "print(euler001_E(1000))"
      ],
      "metadata": {
        "id": "kN-q_J6SzL_F"
      },
      "execution_count": null,
      "outputs": []
    },
    {
      "cell_type": "markdown",
      "source": [
        "# Functional programming"
      ],
      "metadata": {
        "id": "2O1nKKtYzOd5"
      }
    },
    {
      "cell_type": "code",
      "source": [
        "def alpha(n):\n",
        "    r = 0\n",
        "    while r * r * r < n:\n",
        "        r += 1\n",
        "    return r * r * r == n"
      ],
      "metadata": {
        "id": "eH4sUoAG5rTd"
      },
      "execution_count": null,
      "outputs": []
    },
    {
      "cell_type": "code",
      "source": [
        "def is_perfect_cube(n: int) -> bool:\n",
        "    r = 0\n",
        "    while r * r * r < n:\n",
        "        r += 1\n",
        "    return r * r * r == n"
      ],
      "metadata": {
        "id": "9XGXKVph588w"
      },
      "execution_count": null,
      "outputs": []
    },
    {
      "cell_type": "code",
      "source": [
        "def is_perfect_square(n: int) -> bool:\n",
        "    r = 0\n",
        "    while r * r < n:\n",
        "        r += 1\n",
        "    return r * r == n"
      ],
      "metadata": {
        "id": "GMkRJZdX6d5J"
      },
      "execution_count": null,
      "outputs": []
    },
    {
      "cell_type": "code",
      "source": [
        "def is_triangular(n: int) -> bool:\n",
        "    r = 0\n",
        "    while (r * (r + 1)) // 2 < n:\n",
        "        r += 1\n",
        "    return (r * (r + 1)) // 2 == n"
      ],
      "metadata": {
        "id": "PqwWXwrs6x31"
      },
      "execution_count": null,
      "outputs": []
    },
    {
      "cell_type": "code",
      "source": [
        "def is_powerof2(n: int) -> bool:\n",
        "    r = 0\n",
        "    while 2 ** r < n:\n",
        "        r += 1\n",
        "    return 2 ** r == n"
      ],
      "metadata": {
        "id": "b8kVEpqE7097"
      },
      "execution_count": null,
      "outputs": []
    },
    {
      "cell_type": "markdown",
      "source": [
        "$a > b \\implies f(a) > f(b) $"
      ],
      "metadata": {
        "id": "kd8aD2qv8mmy"
      }
    },
    {
      "cell_type": "code",
      "source": [
        "def _is(f, n: int) -> bool:\n",
        "    r = 0\n",
        "    while f(r) < n:\n",
        "        r += 1\n",
        "    return f(r) == n"
      ],
      "metadata": {
        "id": "UO2THhzT86MM"
      },
      "execution_count": null,
      "outputs": []
    },
    {
      "cell_type": "code",
      "source": [
        "def square(n: int) -> int:\n",
        "    return n * n"
      ],
      "metadata": {
        "id": "cLPnnJ8-_Ai3"
      },
      "execution_count": null,
      "outputs": []
    },
    {
      "cell_type": "code",
      "source": [
        "_is(square, 16)"
      ],
      "metadata": {
        "id": "8rOQ7yoM_Ftk"
      },
      "execution_count": null,
      "outputs": []
    },
    {
      "cell_type": "code",
      "source": [
        "_is(square, 18)"
      ],
      "metadata": {
        "id": "YzBLhAqX_ISm"
      },
      "execution_count": null,
      "outputs": []
    },
    {
      "cell_type": "code",
      "source": [
        "def p2(n: int) -> int:\n",
        "    return 2 ** n"
      ],
      "metadata": {
        "id": "UPhl6Mmt_K97"
      },
      "execution_count": null,
      "outputs": []
    },
    {
      "cell_type": "code",
      "source": [
        "_is(p2, 32)"
      ],
      "metadata": {
        "id": "0DqD3fAP_Qxh"
      },
      "execution_count": null,
      "outputs": []
    },
    {
      "cell_type": "code",
      "source": [
        "x = p2"
      ],
      "metadata": {
        "id": "QgPtDVTD_T4P"
      },
      "execution_count": null,
      "outputs": []
    },
    {
      "cell_type": "code",
      "source": [
        "x(5)"
      ],
      "metadata": {
        "id": "lGUyvBNdDbjN"
      },
      "execution_count": null,
      "outputs": []
    },
    {
      "cell_type": "code",
      "source": [
        "fs = [is_square, is_cube]"
      ],
      "metadata": {
        "id": "C6ZeiDQnDecU"
      },
      "execution_count": null,
      "outputs": []
    },
    {
      "cell_type": "markdown",
      "source": [
        "# map\n",
        "\n",
        "## map(f, $\\mathcal{L}$) $\\equiv$ [f($\\mathcal{L}$[0]), f($\\mathcal{L}$[1])...]\n",
        "\n",
        "## $S' = \\{ f(x) | x \\in S\\} \\equiv map(f, S)$"
      ],
      "metadata": {
        "id": "06Dezc3qD_Lu"
      }
    },
    {
      "cell_type": "code",
      "source": [
        "msq = map(square, [1, 6, -3])"
      ],
      "metadata": {
        "id": "OXgdeiGaEgwe"
      },
      "execution_count": null,
      "outputs": []
    },
    {
      "cell_type": "code",
      "source": [
        "print(msq)"
      ],
      "metadata": {
        "id": "4X23qJsxE09a"
      },
      "execution_count": null,
      "outputs": []
    },
    {
      "cell_type": "code",
      "source": [
        "print(list(msq))"
      ],
      "metadata": {
        "id": "8sVZI0Z7E2Bm"
      },
      "execution_count": null,
      "outputs": []
    },
    {
      "cell_type": "markdown",
      "source": [
        "# filter\n",
        "\n",
        "## $S' = \\{x|x \\in S, g(x)\\} \\equiv filter(g, S)$\n"
      ],
      "metadata": {
        "id": "6oLJjAdTE3k1"
      }
    },
    {
      "cell_type": "code",
      "source": [
        "filter(select, [1, 3, 6, 10, 2])"
      ],
      "metadata": {
        "id": "tTqNHp4aIp1Z"
      },
      "execution_count": null,
      "outputs": []
    },
    {
      "cell_type": "code",
      "source": [
        "print(list(filter(select, [1, 3, 6, 10, 2])))"
      ],
      "metadata": {
        "id": "3Il_QPoaJ6UR"
      },
      "execution_count": null,
      "outputs": []
    },
    {
      "cell_type": "markdown",
      "source": [
        "# List comprehension\n",
        "\n",
        "## $S' = \\{f(x) | x \\in S, g(x)\\} \\equiv map(f, filter(g, S))$\n",
        "\n",
        "## [f(x) for x in S if g(x)]\n",
        "\n",
        "# Filter in terms of List comprehension\n",
        "## $[x~~for~~x~~in~~S~~if~~g(x)] \\equiv filter(g, S)$\n",
        "\n",
        "# map in terms of list comprehension\n",
        "## $[f(x)~~for~~x~~in~~S] \\equiv map(f, S)$"
      ],
      "metadata": {
        "id": "AgUq9e8kJ-1g"
      }
    },
    {
      "cell_type": "code",
      "source": [
        "def euler001_E(limit: int) -> int:\n",
        "    return sum([n for n in range(1, limit) if select(n)])"
      ],
      "metadata": {
        "id": "6yFH4_IywTsr"
      },
      "execution_count": null,
      "outputs": []
    },
    {
      "cell_type": "code",
      "source": [
        "def euler001_F(limit: int) -> int:\n",
        "    return sum(filter(select, range(1, limit)))"
      ],
      "metadata": {
        "id": "NBYil0vGLrYp"
      },
      "execution_count": null,
      "outputs": []
    },
    {
      "cell_type": "code",
      "source": [],
      "metadata": {
        "id": "joirQFH-NN9F"
      },
      "execution_count": null,
      "outputs": []
    }
  ]
}